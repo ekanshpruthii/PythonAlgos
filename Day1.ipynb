{
 "cells": [
  {
   "attachments": {},
   "cell_type": "markdown",
   "metadata": {},
   "source": [
    "<h1> #1 Find the pair whose sum is equal to the target_sum"
   ]
  },
  {
   "cell_type": "code",
   "execution_count": 56,
   "metadata": {},
   "outputs": [
    {
     "name": "stdout",
     "output_type": "stream",
     "text": [
      "[9, 17, 16, 13, 6, 29, 26, 1, 5, 3, 18, 15, 23, 27]\n",
      "Approach 1\n",
      "[(6, 9)]\n",
      "Approach 2\n",
      "[(6, 9)]\n"
     ]
    }
   ],
   "source": [
    "import random\n",
    "import numpy as np\n",
    "\n",
    "len_arr = random.randint(6,22)\n",
    "target_sum = int(input(\"Target Sum is :\"))\n",
    "arr = random.sample(range(1, 30), len_arr)\n",
    "print(arr)\n",
    "\n",
    "print(\"Approach 1\")\n",
    "sort_arr = np.sort(arr)\n",
    "pair = []\n",
    "for i in range(0,len(sort_arr)):\n",
    "    diff = target_sum - sort_arr[i]\n",
    "    if diff in sort_arr[i:]:\n",
    "        pair.append((sort_arr[i],diff))\n",
    "\n",
    "print(pair)\n",
    "\n",
    "print(\"Approach 2\")\n",
    "new_pair = []\n",
    "j = len_arr-1\n",
    "i = 0\n",
    "while i < j:\n",
    "    if ((sort_arr[i]+sort_arr[j])== target_sum):\n",
    "        new_pair.append((sort_arr[i],sort_arr[j]))\n",
    "        i = i+1\n",
    "        j = j-1\n",
    "    elif ((sort_arr[i]+sort_arr[j]) < target_sum):\n",
    "        i = i+1\n",
    "    else:\n",
    "        j = j-1\n",
    "\n",
    "print(new_pair)\n",
    "\n",
    "print(\"Approach 3\")\n",
    "\n",
    "\n",
    "\n",
    "\n"
   ]
  },
  {
   "attachments": {},
   "cell_type": "markdown",
   "metadata": {},
   "source": [
    "<h1> #2 Does the numbers array has any sub array whose sum is zero ?"
   ]
  },
  {
   "cell_type": "code",
   "execution_count": 59,
   "metadata": {},
   "outputs": [
    {
     "name": "stdout",
     "output_type": "stream",
     "text": [
      "Zero sum sub arrrays  of array : [ -9 -11  -1   9  11  -4   2   0 -10  -8   6 -15   7  15   3] are :\n",
      "[  9  11  -4   2   0 -10  -8]\n",
      "[  2   0 -10  -8   6 -15   7  15   3]\n",
      "[0]\n"
     ]
    }
   ],
   "source": [
    "import numpy as np\n",
    "import random\n",
    "len = 15\n",
    "numbers = random.sample(range(-20,20), len)\n",
    "numbers = np.array(numbers)\n",
    "print(\"Zero sum sub arrrays  of array :\",numbers ,\"are :\")\n",
    "print(\"Approach 1:\")\n",
    "end = 1\n",
    "start = 0\n",
    "while start <= len:\n",
    "    while end <= len:\n",
    "        sub_sum = numbers[start:end].sum()\n",
    "        if sub_sum == 0: \n",
    "            print(numbers[start:end])\n",
    "        end +=1\n",
    "    start += 1\n",
    "    end = start+1\n"
   ]
  },
  {
   "cell_type": "code",
   "execution_count": null,
   "metadata": {},
   "outputs": [],
   "source": []
  },
  {
   "cell_type": "code",
   "execution_count": null,
   "metadata": {},
   "outputs": [],
   "source": []
  }
 ],
 "metadata": {
  "kernelspec": {
   "display_name": "Python 3",
   "language": "python",
   "name": "python3"
  },
  "language_info": {
   "codemirror_mode": {
    "name": "ipython",
    "version": 3
   },
   "file_extension": ".py",
   "mimetype": "text/x-python",
   "name": "python",
   "nbconvert_exporter": "python",
   "pygments_lexer": "ipython3",
   "version": "3.10.8 (main, Nov 24 2022, 08:08:27) [Clang 14.0.6 ]"
  },
  "orig_nbformat": 4,
  "vscode": {
   "interpreter": {
    "hash": "abee55b07bdacabf7647f57c091a5cf805f85fb2461e472433938b98139f4764"
   }
  }
 },
 "nbformat": 4,
 "nbformat_minor": 2
}
